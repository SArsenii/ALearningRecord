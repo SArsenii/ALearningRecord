{
 "cells": [
  {
   "cell_type": "code",
   "execution_count": 1,
   "metadata": {},
   "outputs": [],
   "source": [
    "import pandas as pd\n",
    "import numpy as np"
   ]
  },
  {
   "cell_type": "code",
   "execution_count": 2,
   "metadata": {},
   "outputs": [],
   "source": [
    "df = pd.read_csv(\"StudentsPerformance.csv\")"
   ]
  },
  {
   "cell_type": "code",
   "execution_count": null,
   "metadata": {},
   "outputs": [],
   "source": [
    "df.loc[df.gender == 'female']"
   ]
  },
  {
   "cell_type": "code",
   "execution_count": null,
   "metadata": {},
   "outputs": [],
   "source": [
    "df.loc[df['writing score'] >= df['writing score'].mean()]"
   ]
  },
  {
   "cell_type": "code",
   "execution_count": null,
   "metadata": {},
   "outputs": [],
   "source": [
    "# 1.5.4\n",
    "df.loc[(df['writing score'] >= df['writing score'].mean()) & (df.gender == 'female')]"
   ]
  },
  {
   "cell_type": "code",
   "execution_count": null,
   "metadata": {},
   "outputs": [],
   "source": [
    "# 1.5.6\n",
    "(df.groupby('lunch').count()/ df.shape[0]).iloc[0,0]"
   ]
  },
  {
   "cell_type": "code",
   "execution_count": null,
   "metadata": {},
   "outputs": [],
   "source": [
    "# 1.5.7\n",
    "# df.loc[df.lunch == \"standard\"].describe() - df.loc[df.lunch == \"free/reduced\"].describe() # alternative option\n",
    "df.groupby('lunch').aggregate({'math score':['mean', 'var'], 'reading score':['mean', 'var'], 'writing score':['mean', 'var']})\n"
   ]
  },
  {
   "cell_type": "code",
   "execution_count": null,
   "metadata": {},
   "outputs": [],
   "source": [
    "# 1.5.12\n",
    "selected_columns = df.filter(like='-')"
   ]
  },
  {
   "cell_type": "code",
   "execution_count": null,
   "metadata": {},
   "outputs": [],
   "source": [
    "# 1.6.5\n",
    "ddf = pd.read_csv(\"dota_hero_stats.csv\")\n",
    "#ddf.groupby('legs').count()\n",
    "ddf['legs'].value_counts()"
   ]
  },
  {
   "cell_type": "code",
   "execution_count": null,
   "metadata": {},
   "outputs": [],
   "source": [
    "# 1.6.6\n",
    "adf = pd.read_csv('accountancy.csv')\n",
    "# adf.pivot_table(values = \"Salary\", index = \"Executor\", columns = \"Type\") # alternative solution\n",
    "adf.groupby(['Type', 'Executor'])\\\n",
    "    .aggregate(mean_sal = ('Salary', 'mean'))\\\n",
    "    .unstack()"
   ]
  },
  {
   "cell_type": "code",
   "execution_count": null,
   "metadata": {},
   "outputs": [],
   "source": [
    "# 1.6.7\n",
    "# ddf.filter(items=['attack_type','primary_attr']).mode() # alternative solution\n",
    "ddf.groupby(['attack_type', 'primary_attr']).count().sort_values('id', ascending=False).head(1)"
   ]
  },
  {
   "cell_type": "code",
   "execution_count": null,
   "metadata": {},
   "outputs": [],
   "source": [
    "# 1.6.8\n",
    "concentrations = pd.read_csv('algae.csv')\n",
    "# mean_concentrations = concentrations.groupby(['genus']).aggregate('mean')"
   ]
  },
  {
   "cell_type": "code",
   "execution_count": null,
   "metadata": {},
   "outputs": [],
   "source": [
    "# 1.6.9\n",
    "concentrations.loc[concentrations.genus == \"Fucus\", 'alanin'].aggregate(['min', 'mean', 'max']).round(2)"
   ]
  },
  {
   "cell_type": "code",
   "execution_count": 133,
   "metadata": {},
   "outputs": [
    {
     "name": "stdout",
     "output_type": "stream",
     "text": [
      "0    5.19\n",
      "1    3.26\n",
      "2    0.00\n",
      "dtype: float64\n",
      "   group  cnt\n",
      "0  brown    6\n",
      "1  green    3\n",
      "2    red    1\n",
      "   group       var\n",
      "0  brown  5.468942\n",
      "1  green  3.950113\n",
      "2    red       NaN\n"
     ]
    }
   ],
   "source": [
    "# 1.6.10\n",
    "agg1 = concentrations.groupby('group', as_index=False).agg({'sucrose':['min', 'max']}).round(2)\n",
    "print(agg1.sucrose['max'] - agg1.sucrose['min'])\n",
    "print(concentrations.groupby('group', as_index=False).agg(cnt = ('group', 'count')))\n",
    "print(concentrations.groupby('group', as_index=False).agg(var = ('citrate', 'var')))"
   ]
  }
 ],
 "metadata": {
  "kernelspec": {
   "display_name": "Python 3",
   "language": "python",
   "name": "python3"
  },
  "language_info": {
   "codemirror_mode": {
    "name": "ipython",
    "version": 3
   },
   "file_extension": ".py",
   "mimetype": "text/x-python",
   "name": "python",
   "nbconvert_exporter": "python",
   "pygments_lexer": "ipython3",
   "version": "3.12.1"
  }
 },
 "nbformat": 4,
 "nbformat_minor": 2
}
